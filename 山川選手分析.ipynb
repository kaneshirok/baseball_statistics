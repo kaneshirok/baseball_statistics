{
 "cells": [
  {
   "cell_type": "code",
   "execution_count": 3,
   "metadata": {},
   "outputs": [],
   "source": [
    "%matplotlib inline\n",
    "import pandas as pd\n",
    "# 表示列・行を増やす(30列, 10行)\n",
    "pd.options.display.max_columns = 30\n",
    "pd.options.display.max_rows = 10"
   ]
  },
  {
   "cell_type": "code",
   "execution_count": 4,
   "metadata": {},
   "outputs": [],
   "source": [
    "# 山川選手のデータ\n",
    "url = 'http://npb.jp/bis/players/21425139.html'"
   ]
  },
  {
   "cell_type": "code",
   "execution_count": 5,
   "metadata": {},
   "outputs": [],
   "source": [
    "# htmlのテーブルをDataFrameで取得\n",
    "yamakawa_info_df = pd.read_html(url, header=0)"
   ]
  },
  {
   "cell_type": "code",
   "execution_count": 6,
   "metadata": {},
   "outputs": [
    {
     "ename": "IndexError",
     "evalue": "list index out of range",
     "output_type": "error",
     "traceback": [
      "\u001b[0;31m---------------------------------------------------------------------------\u001b[0m",
      "\u001b[0;31mIndexError\u001b[0m                                Traceback (most recent call last)",
      "\u001b[0;32m<ipython-input-6-5575450ab038>\u001b[0m in \u001b[0;36m<module>\u001b[0;34m()\u001b[0m\n\u001b[1;32m      1\u001b[0m \u001b[0;31m# 成績のみ取得する\u001b[0m\u001b[0;34m\u001b[0m\u001b[0;34m\u001b[0m\u001b[0m\n\u001b[0;32m----> 2\u001b[0;31m \u001b[0myamakawa_achievement_df\u001b[0m \u001b[0;34m=\u001b[0m \u001b[0myamakawa_info_df\u001b[0m\u001b[0;34m[\u001b[0m\u001b[0;36m3\u001b[0m\u001b[0;34m]\u001b[0m\u001b[0;34m\u001b[0m\u001b[0m\n\u001b[0m",
      "\u001b[0;31mIndexError\u001b[0m: list index out of range"
     ]
    }
   ],
   "source": [
    "# 成績のみ取得する\n",
    "yamakawa_achievement_df = yamakawa_info_df[3]"
   ]
  },
  {
   "cell_type": "code",
   "execution_count": 7,
   "metadata": {},
   "outputs": [
    {
     "ename": "NameError",
     "evalue": "name 'yamakawa_achievement_df' is not defined",
     "output_type": "error",
     "traceback": [
      "\u001b[0;31m---------------------------------------------------------------------------\u001b[0m",
      "\u001b[0;31mNameError\u001b[0m                                 Traceback (most recent call last)",
      "\u001b[0;32m<ipython-input-7-3182874ce7a2>\u001b[0m in \u001b[0;36m<module>\u001b[0;34m()\u001b[0m\n\u001b[1;32m      1\u001b[0m \u001b[0;31m# 確認\u001b[0m\u001b[0;34m\u001b[0m\u001b[0;34m\u001b[0m\u001b[0m\n\u001b[0;32m----> 2\u001b[0;31m \u001b[0myamakawa_achievement_df\u001b[0m\u001b[0;34m\u001b[0m\u001b[0m\n\u001b[0m",
      "\u001b[0;31mNameError\u001b[0m: name 'yamakawa_achievement_df' is not defined"
     ]
    }
   ],
   "source": [
    "# 確認\n",
    "yamakawa_achievement_df"
   ]
  },
  {
   "cell_type": "code",
   "execution_count": 8,
   "metadata": {},
   "outputs": [
    {
     "ename": "NameError",
     "evalue": "name 'yamakawa_achievement_df' is not defined",
     "output_type": "error",
     "traceback": [
      "\u001b[0;31m---------------------------------------------------------------------------\u001b[0m",
      "\u001b[0;31mNameError\u001b[0m                                 Traceback (most recent call last)",
      "\u001b[0;32m<ipython-input-8-adc177f8d569>\u001b[0m in \u001b[0;36m<module>\u001b[0;34m()\u001b[0m\n\u001b[1;32m      1\u001b[0m \u001b[0;31m# 2017年度成績を取得\u001b[0m\u001b[0;34m\u001b[0m\u001b[0;34m\u001b[0m\u001b[0m\n\u001b[0;32m----> 2\u001b[0;31m \u001b[0myamakawa_achievement_2017\u001b[0m \u001b[0;34m=\u001b[0m \u001b[0myamakawa_achievement_df\u001b[0m\u001b[0;34m.\u001b[0m\u001b[0mloc\u001b[0m\u001b[0;34m[\u001b[0m\u001b[0;36m3\u001b[0m\u001b[0;34m]\u001b[0m\u001b[0;34m\u001b[0m\u001b[0m\n\u001b[0m",
      "\u001b[0;31mNameError\u001b[0m: name 'yamakawa_achievement_df' is not defined"
     ]
    }
   ],
   "source": [
    "# 2017年度成績を取得\n",
    "yamakawa_achievement_2017 = yamakawa_achievement_df.loc[3]"
   ]
  },
  {
   "cell_type": "code",
   "execution_count": null,
   "metadata": {},
   "outputs": [],
   "source": [
    "# IsoPを計算\n",
    "long_hit_rate = yamakawa_achievement_2017['長打率']\n",
    "batting_avarage = yamakawa_achievement_2017['打　率']\n",
    "squirrel = yamakawa_achievement_2017['塁　打']\n",
    "hit = yamakawa_achievement_2017['安　打']\n",
    "stroke_count = yamakawa_achievement_2017['打　数']\n",
    "Isop1 = long_hit_rate - batting_avarage\n",
    "Isop2 = (squirrel - hit) / stroke_count\n",
    "print(Isop1)\n",
    "print(Isop2)"
   ]
  },
  {
   "cell_type": "code",
   "execution_count": null,
   "metadata": {},
   "outputs": [],
   "source": [
    "# OPSを計算\n",
    "base_rate = yamakawa_achievement_2017['出塁率']\n",
    "ops = long_hit_rate + base_rate\n",
    "print(ops)"
   ]
  },
  {
   "cell_type": "code",
   "execution_count": null,
   "metadata": {},
   "outputs": [],
   "source": [
    "# wOBAを計算\n",
    "# 0.72 × (四球－故意四球) + 0.75 × 死球 + 0.90 × 単打 + 0.92 × 失策出塁 + 1.24 × 二塁打 + 1.56 × 三塁打 + 1.95 × 本塁打 / 打席\n",
    "for_ball = yamakawa_achievement_2017['四　球']\n",
    "# 故意四球(敬遠)はデータが存在しないので一旦0とする\n",
    "koi_shikyu = 0\n",
    "dead_ball = yamakawa_achievement_2017['死　球']\n",
    "home_run = yamakawa_achievement_2017['本塁打']\n",
    "sanruida = yamakawa_achievement_2017['三塁打']\n",
    "niruida = yamakawa_achievement_2017['二塁打']\n",
    "tanda = hit - home_run - sanruida - niruida\n",
    "daseki = yamakawa_achievement_2017['打　席']\n",
    "wOBA = (0.72 * (for_ball - koi_shikyu) + 0.75 * dead_ball + 0.90 * tanda + 0.92 * 0 + 1.24 * niruida + 1.56 * sanruida + 1.95 * home_run / daseki)\n",
    "print(round(wOBA / 100, 3))"
   ]
  },
  {
   "cell_type": "code",
   "execution_count": null,
   "metadata": {},
   "outputs": [],
   "source": [
    "# 秋山選手のデータ\n",
    "url = 'http://npb.jp/bis/players/31135133.html'\n",
    "# htmlのテーブルをDataFrameで取得\n",
    "akiyama_info_df = pd.read_html(url, header=0)\n",
    "# 成績のみ取得する\n",
    "akiyama_achievement_df = akiyama_info_df[3]\n",
    "# 2017年度成績を取得\n",
    "akiyama_achievement_2017 = akiyama_achievement_df.loc[3]\n",
    "# 確認\n",
    "akiyama_achievement_2017"
   ]
  },
  {
   "cell_type": "code",
   "execution_count": null,
   "metadata": {},
   "outputs": [],
   "source": [
    "# IsoPを計算\n",
    "long_hit_rate = akiyama_achievement_2017['長打率']\n",
    "batting_avarage = akiyama_achievement_2017['打　率']\n",
    "squirrel = akiyama_achievement_2017['塁　打']\n",
    "hit = akiyama_achievement_2017['安　打']\n",
    "stroke_count = akiyama_achievement_2017['打　数']\n",
    "Isop1 = long_hit_rate - batting_avarage\n",
    "Isop2 = (squirrel - hit) / stroke_count\n",
    "print(Isop1)\n",
    "print(Isop2)"
   ]
  },
  {
   "cell_type": "code",
   "execution_count": null,
   "metadata": {},
   "outputs": [],
   "source": [
    "# OPSを計算\n",
    "base_rate = akiyama_achievement_2017['出塁率']\n",
    "ops = long_hit_rate + base_rate\n",
    "print(ops)"
   ]
  },
  {
   "cell_type": "code",
   "execution_count": null,
   "metadata": {},
   "outputs": [],
   "source": [
    "# wOBAを計算\n",
    "# 0.72 × (四球－故意四球) + 0.75 × 死球 + 0.90 × 単打 + 0.92 × 失策出塁 + 1.24 × 二塁打 + 1.56 × 三塁打 + 1.95 × 本塁打 / 打席\n",
    "for_ball = akiyama_achievement_2017['四　球']\n",
    "# 故意四球(敬遠)はデータが存在しないので一旦0とする\n",
    "koi_shikyu = 0\n",
    "dead_ball = akiyama_achievement_2017['死　球']\n",
    "home_run = akiyama_achievement_2017['本塁打']\n",
    "sanruida = akiyama_achievement_2017['三塁打']\n",
    "niruida = akiyama_achievement_2017['二塁打']\n",
    "tanda = hit - home_run - sanruida - niruida\n",
    "daseki = akiyama_achievement_2017['打　席']\n",
    "wOBA = (0.72 * (for_ball - koi_shikyu) + 0.75 * dead_ball + 0.90 * tanda + 0.92 * 0 + 1.24 * niruida + 1.56 * sanruida + 1.95 * home_run / daseki)\n",
    "print(wOBA)"
   ]
  },
  {
   "cell_type": "code",
   "execution_count": null,
   "metadata": {},
   "outputs": [],
   "source": [
    "# yahooのデータを取得\n",
    "yahoo_batting_info_url = 'https://baseball.yahoo.co.jp/npb/stats/batter?series=2&type=1'\n",
    "yahoo_batting_info = pd.read_html(yahoo_batting_info_url, header=1)\n",
    "# TOP10のデータを取得する\n",
    "yahoo_batting_top10 = yahoo_batting_info[0].loc[0:9]\n",
    "yahoo_batting_top10"
   ]
  },
  {
   "cell_type": "code",
   "execution_count": null,
   "metadata": {},
   "outputs": [],
   "source": []
  }
 ],
 "metadata": {
  "kernelspec": {
   "display_name": "Python 3",
   "language": "python",
   "name": "python3"
  },
  "language_info": {
   "codemirror_mode": {
    "name": "ipython",
    "version": 3
   },
   "file_extension": ".py",
   "mimetype": "text/x-python",
   "name": "python",
   "nbconvert_exporter": "python",
   "pygments_lexer": "ipython3",
   "version": "3.6.4"
  }
 },
 "nbformat": 4,
 "nbformat_minor": 2
}
